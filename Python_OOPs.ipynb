{
  "nbformat": 4,
  "nbformat_minor": 0,
  "metadata": {
    "colab": {
      "provenance": []
    },
    "kernelspec": {
      "name": "python3",
      "display_name": "Python 3"
    },
    "language_info": {
      "name": "python"
    }
  },
  "cells": [
    {
      "cell_type": "markdown",
      "source": [
        "#Python OOPs Questions And Answer"
      ],
      "metadata": {
        "id": "f60jmuL52sTz"
      }
    },
    {
      "cell_type": "markdown",
      "source": [
        "1. What is Object-Oriented Programming (OOP)?\n",
        "\n",
        "Ans → OOP is a method of programming where we use class n object. It makes code real world type and reusable.\n",
        "\n",
        "2. What is a class in OOP?\n",
        "\n",
        "Ans → Class is like a blueprint/template which contain data and functions together.\n",
        "\n",
        "3. What is an object in OOP?\n",
        "\n",
        "Ans → Object is instance of class. From class we make object which is real usable.\n",
        "\n",
        "4. What is the difference between abstraction and encapsulation?\n",
        "\n",
        "Ans → Abstraction = hide extra details n show only important part.\n",
        "Encapsulation = bind data + methods together in one unit.\n",
        "\n",
        "5. What are dunder methods in Python?\n",
        "\n",
        "Ans → They are double underscore methods like __init__, __str__. They give special behavior to class.\n",
        "\n",
        "6. Explain the concept of inheritance in OOP.\n",
        "\n",
        "Ans → Inheritance means child class take features and methods from parent class.\n",
        "\n",
        "7. What is polymorphism in OOP?\n",
        "\n",
        "Ans → Polymorphism means same name function but different working in different class.\n",
        "\n",
        "8. How is encapsulation achieved in Python?\n",
        "\n",
        "Ans → By making variables/methods private using _ or __.\n",
        "\n",
        "9. What is a constructor in Python?\n",
        "\n",
        "Ans → Constructor is __init__ function. It runs automatically when object is created.\n",
        "\n",
        "10. What are class and static methods in Python?\n",
        "\n",
        "Ans → Class method use @classmethod and it works with class.\n",
        "Static method use @staticmethod and it works without class or object.\n",
        "\n",
        "11. What is method overloading in Python?\n",
        "\n",
        "Ans → Python not support true overloading but we can use default args or *args to do it.\n",
        "\n",
        "12. What is method overriding in OOP?\n",
        "\n",
        "Ans → When child class write same method name as parent then child method will override parent one.\n",
        "\n",
        "13. What is a property decorator in Python?\n",
        "\n",
        "Ans → @property is used to access method like variable (without brackets).\n",
        "\n",
        "14. Why is polymorphism important in OOP?\n",
        "\n",
        "Ans → It make code flexible and easy. Same name can work in many ways.\n",
        "\n",
        "15. What is an abstract class in Python?\n",
        "\n",
        "Ans → Abstract class is a class which cannot make object directly, it may have abstract methods.\n",
        "\n",
        "16. What are the advantages of OOP?\n",
        "\n",
        "Ans → Code reuse, easy to manage, more secure, and real world modeling.\n",
        "\n",
        "17. What is the difference between a class variable and an instance variable?\n",
        "\n",
        "Ans → Class variable is same for all objects.\n",
        "Instance variable is different for every object.\n",
        "\n",
        "18. What is multiple inheritance in Python?\n",
        "\n",
        "Ans → When one class inherit from more than one parent class.\n",
        "\n",
        "19. Explain the purpose of “str” and “repr” methods in Python.\n",
        "\n",
        "Ans → __str__ gives user-friendly output.\n",
        "__repr__ gives developer-friendly output.\n",
        "\n",
        "20. What is the significance of the ‘super()’ function in Python?\n",
        "\n",
        "Ans → super() is used to call parent class methods from child class.\n",
        "\n",
        "\n",
        "21. What is the significance of the del method in Python?\n",
        "Ans → __del__ is destructor method. It is called when object is deleted.\n",
        "\n",
        "22. What is the difference between @staticmethod and @classmethod in Python?\n",
        "\n",
        "Ans → Staticmethod don’t take self/cls, only normal args.\n",
        "Classmethod take cls as first arg and can access class variables.\n",
        "\n",
        "23. How does polymorphism work in Python with inheritance?\n",
        "\n",
        "Ans → Child class can change the method of parent with same name, so behavior is different.\n",
        "\n",
        "24. What is method chaining in Python OOP?\n",
        "\n",
        "Ans → Calling multiple methods on same object in single line like obj.m1().m2().\n",
        "\n",
        "25. What is the purpose of the call method in Python?\n",
        "\n",
        "Ans → It allow object to be called like a function."
      ],
      "metadata": {
        "id": "wkj33zEr3miv"
      }
    },
    {
      "cell_type": "markdown",
      "source": [
        "#Practical Questions and answer"
      ],
      "metadata": {
        "id": "8Gq6aiv345oP"
      }
    },
    {
      "cell_type": "markdown",
      "source": [
        "1. Create a parent class Animal with a method speak() that prints a generic message. Create a child class Dog that overrides the speak() method to print \"Bark!\"."
      ],
      "metadata": {
        "id": "fBcKnhVm6Scg"
      }
    },
    {
      "cell_type": "code",
      "source": [
        "class Animal:\n",
        "    def speak(self):\n",
        "        print(\"This is some animal sound\")\n",
        "\n",
        "class Dog(Animal):\n",
        "    def speak(self):\n",
        "        print(\"Bark!\")\n",
        "\n",
        "d = Dog()\n",
        "d.speak()\n"
      ],
      "metadata": {
        "colab": {
          "base_uri": "https://localhost:8080/"
        },
        "id": "TjXM7b8U6X4v",
        "outputId": "1df672e1-4367-4448-d718-96c855a6f7f2"
      },
      "execution_count": 2,
      "outputs": [
        {
          "output_type": "stream",
          "name": "stdout",
          "text": [
            "Bark!\n"
          ]
        }
      ]
    },
    {
      "cell_type": "markdown",
      "source": [
        "2. Write a program to create an abstract class Shape with a method area(). Derive classes Circle and Rectangle from it and implement the area() method in both."
      ],
      "metadata": {
        "id": "pDB3Rsr16eTo"
      }
    },
    {
      "cell_type": "code",
      "source": [
        "from abc import ABC, abstractmethod\n",
        "\n",
        "class Shape(ABC):\n",
        "    @abstractmethod\n",
        "    def area(self):\n",
        "        pass\n",
        "\n",
        "class Circle(Shape):\n",
        "    def __init__(self,r):\n",
        "        self.r = r\n",
        "    def area(self):\n",
        "        return 3.14*self.r*self.r\n",
        "\n",
        "class Rectangle(Shape):\n",
        "    def __init__(self,l,b):\n",
        "        self.l = l\n",
        "        self.b = b\n",
        "    def area(self):\n",
        "        return self.l*self.b\n",
        "\n",
        "c = Circle(5)\n",
        "print(c.area())\n",
        "r = Rectangle(4,6)\n",
        "print(r.area())\n"
      ],
      "metadata": {
        "colab": {
          "base_uri": "https://localhost:8080/"
        },
        "id": "tDNkZVgp6fiI",
        "outputId": "16ca6f83-fb5d-4374-fe95-d2a215468471"
      },
      "execution_count": 3,
      "outputs": [
        {
          "output_type": "stream",
          "name": "stdout",
          "text": [
            "78.5\n",
            "24\n"
          ]
        }
      ]
    },
    {
      "cell_type": "markdown",
      "source": [
        "3. Implement a multi-level inheritance scenario where a class Vehicle has an attribute type. Derive a class Car and further derive a class ElectricCar that adds a battery attribute."
      ],
      "metadata": {
        "id": "Yxyw8_ep6krh"
      }
    },
    {
      "cell_type": "code",
      "source": [
        "class Vehicle:\n",
        "    def __init__(self,type):\n",
        "        self.type = type\n",
        "\n",
        "class Car(Vehicle):\n",
        "    def __init__(self,type,model):\n",
        "        super().__init__(type)\n",
        "        self.model = model\n",
        "\n",
        "class ElectricCar(Car):\n",
        "    def __init__(self,type,model,battery):\n",
        "        super().__init__(type,model)\n",
        "        self.battery = battery\n",
        "\n",
        "e = ElectricCar(\"Car\",\"Tesla\",\"5000mAh\")\n",
        "print(e.type,e.model,e.battery)\n"
      ],
      "metadata": {
        "colab": {
          "base_uri": "https://localhost:8080/"
        },
        "id": "FNyhvTji6pta",
        "outputId": "8dd4a0f1-441c-44c2-f246-5703666ad27f"
      },
      "execution_count": 4,
      "outputs": [
        {
          "output_type": "stream",
          "name": "stdout",
          "text": [
            "Car Tesla 5000mAh\n"
          ]
        }
      ]
    },
    {
      "cell_type": "markdown",
      "source": [
        "4. Demonstrate polymorphism by creating a base class Bird with a method fly(). Create two derived classes Sparrow and Penguin that override the fly() method."
      ],
      "metadata": {
        "id": "fvxTT_0I6yop"
      }
    },
    {
      "cell_type": "code",
      "source": [
        "class Bird:\n",
        "    def fly(self):\n",
        "        print(\"Bird is flying\")\n",
        "\n",
        "class Sparrow(Bird):\n",
        "    def fly(self):\n",
        "        print(\"Sparrow fly high\")\n",
        "\n",
        "class Penguin(Bird):\n",
        "    def fly(self):\n",
        "        print(\"Penguin cannot fly\")\n",
        "\n",
        "s = Sparrow()\n",
        "s.fly()\n",
        "p = Penguin()\n",
        "p.fly()\n"
      ],
      "metadata": {
        "colab": {
          "base_uri": "https://localhost:8080/"
        },
        "id": "KJyJsvL863fy",
        "outputId": "41175bc6-406c-478c-912f-077993e33001"
      },
      "execution_count": 5,
      "outputs": [
        {
          "output_type": "stream",
          "name": "stdout",
          "text": [
            "Sparrow fly high\n",
            "Penguin cannot fly\n"
          ]
        }
      ]
    },
    {
      "cell_type": "markdown",
      "source": [
        "5. Write a program to demonstrate encapsulation by creating a class BankAccount with private attributes balance and methods to deposit, withdraw, and check balance."
      ],
      "metadata": {
        "id": "y39kSlFr6-10"
      }
    },
    {
      "cell_type": "code",
      "source": [
        "class BankAccount:\n",
        "    def __init__(self,bal):\n",
        "        self.__balance = bal\n",
        "\n",
        "    def deposit(self,amt):\n",
        "        self.__balance += amt\n",
        "\n",
        "    def withdraw(self,amt):\n",
        "        if amt <= self.__balance:\n",
        "            self.__balance -= amt\n",
        "\n",
        "    def get_balance(self):\n",
        "        return self.__balance\n",
        "\n",
        "b = BankAccount(1000)\n",
        "b.deposit(500)\n",
        "b.withdraw(200)\n",
        "print(b.get_balance())\n"
      ],
      "metadata": {
        "colab": {
          "base_uri": "https://localhost:8080/"
        },
        "id": "tRS2sYnN7Cc-",
        "outputId": "cb1e234c-056b-4359-ffe4-a94a7087f2dc"
      },
      "execution_count": 6,
      "outputs": [
        {
          "output_type": "stream",
          "name": "stdout",
          "text": [
            "1300\n"
          ]
        }
      ]
    },
    {
      "cell_type": "markdown",
      "source": [
        "6. Demonstrate runtime polymorphism using a method play() in a base class Instrument. Derive classes Guitar and Piano that implement their own version of play()."
      ],
      "metadata": {
        "id": "5tXF_v157Uao"
      }
    },
    {
      "cell_type": "code",
      "source": [
        "class Instrument:\n",
        "    def play(self):\n",
        "        print(\"Instrument is playing\")\n",
        "\n",
        "class Guitar(Instrument):\n",
        "    def play(self):\n",
        "        print(\"Guitar sound\")\n",
        "\n",
        "class Piano(Instrument):\n",
        "    def play(self):\n",
        "        print(\"Piano sound\")\n",
        "\n",
        "g = Guitar()\n",
        "p = Piano()\n",
        "g.play()\n",
        "p.play()\n"
      ],
      "metadata": {
        "colab": {
          "base_uri": "https://localhost:8080/"
        },
        "id": "DFMPH4pC7Z02",
        "outputId": "1c674f35-9b15-42cf-dffd-8a39020c2586"
      },
      "execution_count": 7,
      "outputs": [
        {
          "output_type": "stream",
          "name": "stdout",
          "text": [
            "Guitar sound\n",
            "Piano sound\n"
          ]
        }
      ]
    },
    {
      "cell_type": "markdown",
      "source": [
        "7. Create a class MathOperations with a class method add_numbers() to add two numbers and a static method subtract_numbers() to subtract two numbers."
      ],
      "metadata": {
        "id": "5oQH_ZL57iXn"
      }
    },
    {
      "cell_type": "code",
      "source": [
        "class MathOperations:\n",
        "    def add_numbers(self,a,b):\n",
        "        return a+b\n",
        "\n",
        "    @staticmethod\n",
        "    def subtract_numbers(a,b):\n",
        "        return a-b\n",
        "\n",
        "m = MathOperations()\n",
        "print(m.add_numbers(4,3))\n",
        "print(MathOperations.subtract_numbers(7,2))\n"
      ],
      "metadata": {
        "colab": {
          "base_uri": "https://localhost:8080/"
        },
        "id": "iCBvSHVK7mf_",
        "outputId": "df941d44-459f-41de-9e69-08fa8769d9f0"
      },
      "execution_count": 8,
      "outputs": [
        {
          "output_type": "stream",
          "name": "stdout",
          "text": [
            "7\n",
            "5\n"
          ]
        }
      ]
    },
    {
      "cell_type": "markdown",
      "source": [
        "8. Implement a class Person with a class method to count the total number of persons created."
      ],
      "metadata": {
        "id": "lNu1NjRv7u6Q"
      }
    },
    {
      "cell_type": "code",
      "source": [
        "class Person:\n",
        "    count = 0\n",
        "    def __init__(self,name):\n",
        "        self.name = name\n",
        "        Person.count += 1\n",
        "\n",
        "    @classmethod\n",
        "    def total(cls):\n",
        "        return cls.count\n",
        "\n",
        "p1 = Person(\"A\")\n",
        "p2 = Person(\"B\")\n",
        "print(Person.total())\n"
      ],
      "metadata": {
        "colab": {
          "base_uri": "https://localhost:8080/"
        },
        "id": "Lvsh8KuW7wUI",
        "outputId": "87e66e64-743f-4ace-b212-1eec5db97cd9"
      },
      "execution_count": 9,
      "outputs": [
        {
          "output_type": "stream",
          "name": "stdout",
          "text": [
            "2\n"
          ]
        }
      ]
    },
    {
      "cell_type": "markdown",
      "source": [
        "9. Write a class Fraction with attributes numerator and denominator. Override the str method to display the fraction as \"numerator/denominator\"."
      ],
      "metadata": {
        "id": "VX3rUTGh72vQ"
      }
    },
    {
      "cell_type": "code",
      "source": [
        "class Fraction:\n",
        "    def __init__(self,num,den):\n",
        "        self.num = num\n",
        "        self.den = den\n",
        "\n",
        "    def __str__(self):\n",
        "        return str(self.num)+\"/\"+str(self.den)\n",
        "\n",
        "f = Fraction(2,5)\n",
        "print(f)\n"
      ],
      "metadata": {
        "colab": {
          "base_uri": "https://localhost:8080/"
        },
        "id": "7pwxvOeF76t8",
        "outputId": "af54da62-40c2-477d-dc2a-9e85aefbdc9e"
      },
      "execution_count": 10,
      "outputs": [
        {
          "output_type": "stream",
          "name": "stdout",
          "text": [
            "2/5\n"
          ]
        }
      ]
    },
    {
      "cell_type": "markdown",
      "source": [
        "10. Demonstrate operator overloading by creating a class Vector and overriding the add method to add two vectors."
      ],
      "metadata": {
        "id": "pAQxCESO7-fp"
      }
    },
    {
      "cell_type": "code",
      "source": [
        "class Vector:\n",
        "    def __init__(self,x,y):\n",
        "        self.x = x\n",
        "        self.y = y\n",
        "\n",
        "    def __add__(self,other):\n",
        "        return Vector(self.x+other.x,self.y+other.y)\n",
        "\n",
        "    def __str__(self):\n",
        "        return f\"{self.x},{self.y}\"\n",
        "\n",
        "v1 = Vector(2,3)\n",
        "v2 = Vector(1,4)\n",
        "v3 = v1+v2\n",
        "print(v3)\n"
      ],
      "metadata": {
        "colab": {
          "base_uri": "https://localhost:8080/"
        },
        "id": "edb89Exg8BMB",
        "outputId": "2e0dc202-70b6-4f86-e2f6-1d4c8a55451d"
      },
      "execution_count": 11,
      "outputs": [
        {
          "output_type": "stream",
          "name": "stdout",
          "text": [
            "3,7\n"
          ]
        }
      ]
    },
    {
      "cell_type": "markdown",
      "source": [
        "11. Create a class Person with attributes name and age. Add a method greet() that prints \"Hello, my name is {name} and I am {age} years old.\""
      ],
      "metadata": {
        "id": "Mk3H5VTb8Gmr"
      }
    },
    {
      "cell_type": "code",
      "source": [
        "class Person:\n",
        "    def __init__(self,name,age):\n",
        "        self.name = name\n",
        "        self.age = age\n",
        "\n",
        "    def greet(self):\n",
        "        print(\"Hello my name is\",self.name,\"and I am\",self.age,\"years old\")\n",
        "\n",
        "p = Person(\"Ravi\",20)\n",
        "p.greet()\n"
      ],
      "metadata": {
        "colab": {
          "base_uri": "https://localhost:8080/"
        },
        "id": "wzQYLTvF8IOK",
        "outputId": "86413169-713d-4870-dd3a-c91b2f67c2f4"
      },
      "execution_count": 12,
      "outputs": [
        {
          "output_type": "stream",
          "name": "stdout",
          "text": [
            "Hello my name is Ravi and I am 20 years old\n"
          ]
        }
      ]
    },
    {
      "cell_type": "markdown",
      "source": [
        "12. Implement a class Student with attributes name and grades. Create a method average_grade() to compute the average of the grades."
      ],
      "metadata": {
        "id": "6Ucj2AHS8Qj7"
      }
    },
    {
      "cell_type": "code",
      "source": [
        "class Student:\n",
        "    def __init__(self,name,grades):\n",
        "        self.name = name\n",
        "        self.grades = grades\n",
        "\n",
        "    def average_grade(self):\n",
        "        return sum(self.grades)/len(self.grades)\n",
        "\n",
        "s = Student(\"Amit\",[70,80,90])\n",
        "print(s.average_grade())\n"
      ],
      "metadata": {
        "colab": {
          "base_uri": "https://localhost:8080/"
        },
        "id": "dKLAFqMc8VUY",
        "outputId": "7f26f971-c3af-49a3-e31c-e741cbe4fff7"
      },
      "execution_count": 13,
      "outputs": [
        {
          "output_type": "stream",
          "name": "stdout",
          "text": [
            "80.0\n"
          ]
        }
      ]
    },
    {
      "cell_type": "markdown",
      "source": [
        "13. Create a class Rectangle with methods set_dimensions() to set the dimensions and area() to calculate the area."
      ],
      "metadata": {
        "id": "271Qwkov8bHM"
      }
    },
    {
      "cell_type": "code",
      "source": [
        "class Rectangle:\n",
        "    def set_dimensions(self,l,b):\n",
        "        self.l = l\n",
        "        self.b = b\n",
        "\n",
        "    def area(self):\n",
        "        return self.l*self.b\n",
        "\n",
        "r = Rectangle()\n",
        "r.set_dimensions(5,7)\n",
        "print(r.area())\n"
      ],
      "metadata": {
        "colab": {
          "base_uri": "https://localhost:8080/"
        },
        "id": "NnFbDOKs8cuk",
        "outputId": "21a3be90-806f-466d-b818-77f12fe1970a"
      },
      "execution_count": 14,
      "outputs": [
        {
          "output_type": "stream",
          "name": "stdout",
          "text": [
            "35\n"
          ]
        }
      ]
    },
    {
      "cell_type": "markdown",
      "source": [
        "14. Create a class Employee with a method calculate_salary() that computes the salary based on hours worked and hourly rate. Create a derived class Manager that adds a bonus to the salary."
      ],
      "metadata": {
        "id": "Ykzfm81O8kZF"
      }
    },
    {
      "cell_type": "code",
      "source": [
        "class Employee:\n",
        "    def __init__(self,hours,rate):\n",
        "        self.hours = hours\n",
        "        self.rate = rate\n",
        "\n",
        "    def calculate_salary(self):\n",
        "        return self.hours*self.rate\n",
        "\n",
        "class Manager(Employee):\n",
        "    def __init__(self,hours,rate,bonus):\n",
        "        super().__init__(hours,rate)\n",
        "        self.bonus = bonus\n",
        "\n",
        "    def calculate_salary(self):\n",
        "        return super().calculate_salary()+self.bonus\n",
        "\n",
        "m = Manager(40,100,500)\n",
        "print(m.calculate_salary())\n"
      ],
      "metadata": {
        "colab": {
          "base_uri": "https://localhost:8080/"
        },
        "id": "raaZxCBz8llN",
        "outputId": "ebb8d003-7c5b-4951-b429-7a3c80bacc5a"
      },
      "execution_count": 15,
      "outputs": [
        {
          "output_type": "stream",
          "name": "stdout",
          "text": [
            "4500\n"
          ]
        }
      ]
    },
    {
      "cell_type": "markdown",
      "source": [
        "15. Create a class Product with attributes name, price, and quantity. Implement a method total_price() that calculates the total price of the product."
      ],
      "metadata": {
        "id": "Fjq8ynCH8-SH"
      }
    },
    {
      "cell_type": "code",
      "source": [
        "class Product:\n",
        "    def __init__(self,n,p,q):\n",
        "        self.n=n\n",
        "        self.p=p\n",
        "        self.q=q\n",
        "    def total_price(self):\n",
        "        return self.p*self.q\n",
        "\n",
        "p=Product(\"pen\",10,5)\n",
        "print(p.total_price())\n"
      ],
      "metadata": {
        "colab": {
          "base_uri": "https://localhost:8080/"
        },
        "id": "xNeGhXd79DSH",
        "outputId": "a8e590d0-8f37-46b6-936d-e37e82633cf8"
      },
      "execution_count": 16,
      "outputs": [
        {
          "output_type": "stream",
          "name": "stdout",
          "text": [
            "50\n"
          ]
        }
      ]
    },
    {
      "cell_type": "markdown",
      "source": [
        "16. Create a class Animal with an abstract method sound(). Create two derived classes Cow and Sheep that implement the sound() method."
      ],
      "metadata": {
        "id": "5dNdVlCm9ICC"
      }
    },
    {
      "cell_type": "code",
      "source": [
        "class Animal:\n",
        "    def sound(self):\n",
        "        pass\n",
        "\n",
        "class Cow(Animal):\n",
        "    def sound(self):\n",
        "        print(\"Moo\")\n",
        "\n",
        "class Sheep(Animal):\n",
        "    def sound(self):\n",
        "        print(\"Baa\")\n",
        "\n",
        "c=Cow()\n",
        "c.sound()\n",
        "s=Sheep()\n",
        "s.sound()\n"
      ],
      "metadata": {
        "colab": {
          "base_uri": "https://localhost:8080/"
        },
        "id": "nLAOIqW39Jdp",
        "outputId": "dd6ce20c-3316-47b0-d496-ae82cc317966"
      },
      "execution_count": 17,
      "outputs": [
        {
          "output_type": "stream",
          "name": "stdout",
          "text": [
            "Moo\n",
            "Baa\n"
          ]
        }
      ]
    },
    {
      "cell_type": "markdown",
      "source": [
        "17. Create a class Book with attributes title, author, and year_published. Add a method get_book_info() that returns a formatted string with the book's details."
      ],
      "metadata": {
        "id": "qEqWBwGO9RzJ"
      }
    },
    {
      "cell_type": "code",
      "source": [
        "class Book:\n",
        "    def __init__(self,t,a,y):\n",
        "        self.t=t\n",
        "        self.a=a\n",
        "        self.y=y\n",
        "    def get_book_info(self):\n",
        "        return self.t+\" by \"+self.a+\" (\"+str(self.y)+\")\"\n",
        "\n",
        "b=Book(\"Python\",\"Guido\",1991)\n",
        "print(b.get_book_info())\n"
      ],
      "metadata": {
        "colab": {
          "base_uri": "https://localhost:8080/"
        },
        "id": "LkR0oTkI9TGK",
        "outputId": "e0c4230a-41ac-4a80-9f10-d1fcd9677234"
      },
      "execution_count": 18,
      "outputs": [
        {
          "output_type": "stream",
          "name": "stdout",
          "text": [
            "Python by Guido (1991)\n"
          ]
        }
      ]
    },
    {
      "cell_type": "markdown",
      "source": [
        "18. Create a class House with attributes address and price. Create a derived class Mansion that adds an attribute number_of_rooms."
      ],
      "metadata": {
        "id": "75NSXgw99YLa"
      }
    },
    {
      "cell_type": "code",
      "source": [
        "class House:\n",
        "    def __init__(self,ad,pr):\n",
        "        self.ad=ad\n",
        "        self.pr=pr\n",
        "\n",
        "class Mansion(House):\n",
        "    def __init__(self,ad,pr,rm):\n",
        "        super().__init__(ad,pr)\n",
        "        self.rm=rm\n",
        "\n",
        "m=Mansion(\"Delhi\",5000000,10)\n",
        "print(m.ad,m.pr,m.rm)\n"
      ],
      "metadata": {
        "colab": {
          "base_uri": "https://localhost:8080/"
        },
        "id": "QLAwZEgf9Zsz",
        "outputId": "019da454-6083-4d7c-db52-f85d0e84dda1"
      },
      "execution_count": 19,
      "outputs": [
        {
          "output_type": "stream",
          "name": "stdout",
          "text": [
            "Delhi 5000000 10\n"
          ]
        }
      ]
    },
    {
      "cell_type": "code",
      "source": [],
      "metadata": {
        "id": "hLbPySZc9bh_"
      },
      "execution_count": null,
      "outputs": []
    }
  ]
}